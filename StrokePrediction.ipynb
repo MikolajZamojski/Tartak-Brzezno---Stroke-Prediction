{
  "nbformat": 4,
  "nbformat_minor": 0,
  "metadata": {
    "colab": {
      "provenance": []
    },
    "kernelspec": {
      "name": "python3",
      "display_name": "Python 3"
    },
    "language_info": {
      "name": "python"
    }
  },
  "cells": [
    {
      "cell_type": "markdown",
      "source": [
        "import modułów"
      ],
      "metadata": {
        "id": "6i6kczsZmpce"
      }
    },
    {
      "cell_type": "code",
      "source": [
        "import lightgbm as lgb\n",
        "import numpy as np\n",
        "import csv"
      ],
      "metadata": {
        "id": "sSQz8TAvmlkS"
      },
      "execution_count": null,
      "outputs": []
    },
    {
      "cell_type": "markdown",
      "source": [
        "Wczytanie danych\n"
      ],
      "metadata": {
        "id": "okRVCSqpqW_A"
      }
    },
    {
      "cell_type": "code",
      "execution_count": 19,
      "metadata": {
        "id": "4tZmv8JFeAav",
        "colab": {
          "base_uri": "https://localhost:8080/"
        },
        "outputId": "99cc6cb9-9929-4b76-b86f-104267fd1581"
      },
      "outputs": [
        {
          "output_type": "stream",
          "name": "stdout",
          "text": [
            "<class 'numpy.recarray'>\n"
          ]
        }
      ],
      "source": [
        "with open('data.csv', 'r') as f:\n",
        "    dane = np.recfromcsv('data.csv', encoding=None)\n",
        "\n",
        "data_set = lgb.Dataset(dane)\n",
        "print(type(data_set.data))"
      ]
    },
    {
      "cell_type": "markdown",
      "source": [
        "----------------------------------------------------------------------------------------------------------------------------------------------------------------------------------------------------------------------------------------------------------------------------------------------------------------------------"
      ],
      "metadata": {
        "id": "3hx-YFiIrq2I"
      }
    },
    {
      "cell_type": "markdown",
      "source": [
        "Rozdzielenie danych na treningowe i walidacyjne"
      ],
      "metadata": {
        "id": "Dals_vMNrjIr"
      }
    },
    {
      "cell_type": "code",
      "source": [],
      "metadata": {
        "id": "AV_5ZMT8riE-"
      },
      "execution_count": null,
      "outputs": []
    },
    {
      "cell_type": "markdown",
      "source": [
        "**Data pre-processing**\n",
        "\n",
        "```py\n",
        "data = load_breast_cancer(as_frame=True)\n",
        "X = data.data\n",
        "y = data.target\n",
        "\n",
        "# Split data into training(80%) and testing(20%) sets\n",
        "X_train, X_test, y_train, y_test = train_test_split(X, y, test_size=0.2, random_state=42)\n",
        "```\n"
      ],
      "metadata": {
        "id": "oIk2yXWqo_vh"
      }
    },
    {
      "cell_type": "code",
      "source": [
        "data = load_breast_cancer(as_frame=True)\n",
        "X = data.data\n",
        "y = data.target\n",
        "\n",
        "# Split data into training(80%) and testing(20%) sets\n",
        "X_train, X_test, y_train, y_test = train_test_split(X, y, test_size=0.2, random_state=42)"
      ],
      "metadata": {
        "id": "Uj6-TRAKp1yw",
        "outputId": "09467082-4207-44bf-a1d4-f794b275ddae",
        "colab": {
          "base_uri": "https://localhost:8080/",
          "height": 219
        }
      },
      "execution_count": null,
      "outputs": [
        {
          "output_type": "error",
          "ename": "NameError",
          "evalue": "name 'load_breast_cancer' is not defined",
          "traceback": [
            "\u001b[0;31m---------------------------------------------------------------------------\u001b[0m",
            "\u001b[0;31mNameError\u001b[0m                                 Traceback (most recent call last)",
            "\u001b[0;32m<ipython-input-1-15da6a6f0c7e>\u001b[0m in \u001b[0;36m<cell line: 1>\u001b[0;34m()\u001b[0m\n\u001b[0;32m----> 1\u001b[0;31m \u001b[0mdata\u001b[0m \u001b[0;34m=\u001b[0m \u001b[0mload_breast_cancer\u001b[0m\u001b[0;34m(\u001b[0m\u001b[0mas_frame\u001b[0m\u001b[0;34m=\u001b[0m\u001b[0;32mTrue\u001b[0m\u001b[0;34m)\u001b[0m\u001b[0;34m\u001b[0m\u001b[0;34m\u001b[0m\u001b[0m\n\u001b[0m\u001b[1;32m      2\u001b[0m \u001b[0mX\u001b[0m \u001b[0;34m=\u001b[0m \u001b[0mdata\u001b[0m\u001b[0;34m.\u001b[0m\u001b[0mdata\u001b[0m\u001b[0;34m\u001b[0m\u001b[0;34m\u001b[0m\u001b[0m\n\u001b[1;32m      3\u001b[0m \u001b[0my\u001b[0m \u001b[0;34m=\u001b[0m \u001b[0mdata\u001b[0m\u001b[0;34m.\u001b[0m\u001b[0mtarget\u001b[0m\u001b[0;34m\u001b[0m\u001b[0;34m\u001b[0m\u001b[0m\n\u001b[1;32m      4\u001b[0m \u001b[0;34m\u001b[0m\u001b[0m\n\u001b[1;32m      5\u001b[0m \u001b[0;31m# Split data into training(80%) and testing(20%) sets\u001b[0m\u001b[0;34m\u001b[0m\u001b[0;34m\u001b[0m\u001b[0m\n",
            "\u001b[0;31mNameError\u001b[0m: name 'load_breast_cancer' is not defined"
          ]
        }
      ]
    }
  ]
}